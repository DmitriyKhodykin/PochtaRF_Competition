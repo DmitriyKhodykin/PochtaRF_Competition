{
 "cells": [
  {
   "cell_type": "markdown",
   "metadata": {},
   "source": [
    "# Разработка модели предсказания потери почтовых отправлений"
   ]
  },
  {
   "cell_type": "code",
   "execution_count": 50,
   "metadata": {},
   "outputs": [
    {
     "name": "stdout",
     "output_type": "stream",
     "text": [
      "TfVersion: 2.10.0\n"
     ]
    }
   ],
   "source": [
    "# Таблицы и вычисления\n",
    "import pandas as pd\n",
    "import numpy as np\n",
    "\n",
    "# Подготовка данных\n",
    "from sklearn.preprocessing import power_transform\n",
    "import texthero as hero\n",
    "from sklearn.decomposition import PCA\n",
    "from lightautoml.reader.base import PandasToPandasReader\n",
    "\n",
    "# Визуализация\n",
    "import matplotlib.pyplot as plt\n",
    "import seaborn as sns\n",
    "\n",
    "# Модели и автоматизация\n",
    "import tensorflow as tf\n",
    "from tensorflow import keras\n",
    "from lightautoml.ml_algo.boost_lgbm import BoostLGBM\n",
    "\n",
    "from lightautoml.pipelines.ml.base import MLPipeline\n",
    "from lightautoml.pipelines.features.lgb_pipeline import LGBSimpleFeatures\n",
    "from lightautoml.pipelines.selection.importance_based import (\n",
    "    ImportanceCutoffSelector, \n",
    "    ModelBasedImportanceEstimator\n",
    ")\n",
    "\n",
    "from lightautoml.ml_algo.tuning.optuna import OptunaTuner\n",
    "\n",
    "from lightautoml.automl.presets.tabular_presets import TabularAutoML\n",
    "from lightautoml.tasks import Task\n",
    "from lightautoml.automl.base import AutoML\n",
    "\n",
    "# Метрики качества\n",
    "from sklearn.metrics import recall_score, roc_auc_score, f1_score\n",
    "\n",
    "# Отчеты\n",
    "from lightautoml.report.report_deco import ReportDeco\n",
    "import logging\n",
    "\n",
    "print(\"TfVersion:\", tf.__version__)"
   ]
  },
  {
   "cell_type": "code",
   "execution_count": 2,
   "metadata": {},
   "outputs": [],
   "source": [
    "SEED=202211"
   ]
  },
  {
   "cell_type": "markdown",
   "metadata": {},
   "source": [
    "## Dataset"
   ]
  },
  {
   "cell_type": "code",
   "execution_count": 12,
   "metadata": {},
   "outputs": [
    {
     "data": {
      "text/html": [
       "<div>\n",
       "<style scoped>\n",
       "    .dataframe tbody tr th:only-of-type {\n",
       "        vertical-align: middle;\n",
       "    }\n",
       "\n",
       "    .dataframe tbody tr th {\n",
       "        vertical-align: top;\n",
       "    }\n",
       "\n",
       "    .dataframe thead th {\n",
       "        text-align: right;\n",
       "    }\n",
       "</style>\n",
       "<table border=\"1\" class=\"dataframe\">\n",
       "  <thead>\n",
       "    <tr style=\"text-align: right;\">\n",
       "      <th></th>\n",
       "      <th>id</th>\n",
       "      <th>oper_type + oper_attr</th>\n",
       "      <th>index_oper</th>\n",
       "      <th>type</th>\n",
       "      <th>priority</th>\n",
       "      <th>is_privatecategory</th>\n",
       "      <th>class</th>\n",
       "      <th>is_in_yandex</th>\n",
       "      <th>is_return</th>\n",
       "      <th>weight</th>\n",
       "      <th>...</th>\n",
       "      <th>dist_qty_oper_login_1</th>\n",
       "      <th>total_qty_oper_login_1</th>\n",
       "      <th>total_qty_oper_login_0</th>\n",
       "      <th>total_qty_over_index_and_type</th>\n",
       "      <th>total_qty_over_index</th>\n",
       "      <th>is_wrong_sndr_name</th>\n",
       "      <th>is_wrong_rcpn_name</th>\n",
       "      <th>is_wrong_phone_number</th>\n",
       "      <th>is_wrong_address</th>\n",
       "      <th>label</th>\n",
       "    </tr>\n",
       "  </thead>\n",
       "  <tbody>\n",
       "    <tr>\n",
       "      <th>0</th>\n",
       "      <td>6818780</td>\n",
       "      <td>1043_-1</td>\n",
       "      <td>628629</td>\n",
       "      <td>Участок</td>\n",
       "      <td>7503</td>\n",
       "      <td>N</td>\n",
       "      <td>0</td>\n",
       "      <td>Y</td>\n",
       "      <td>N</td>\n",
       "      <td>87</td>\n",
       "      <td>...</td>\n",
       "      <td>42</td>\n",
       "      <td>720176</td>\n",
       "      <td>58950</td>\n",
       "      <td>779126</td>\n",
       "      <td>8290896</td>\n",
       "      <td>0</td>\n",
       "      <td>0</td>\n",
       "      <td>0</td>\n",
       "      <td>0</td>\n",
       "      <td>0</td>\n",
       "    </tr>\n",
       "    <tr>\n",
       "      <th>1</th>\n",
       "      <td>9907176</td>\n",
       "      <td>1023_-1</td>\n",
       "      <td>102976</td>\n",
       "      <td>ММПО</td>\n",
       "      <td>7503</td>\n",
       "      <td>N</td>\n",
       "      <td>0</td>\n",
       "      <td>N</td>\n",
       "      <td>N</td>\n",
       "      <td>107</td>\n",
       "      <td>...</td>\n",
       "      <td>914</td>\n",
       "      <td>48856658</td>\n",
       "      <td>83318932</td>\n",
       "      <td>132175590</td>\n",
       "      <td>136819803</td>\n",
       "      <td>0</td>\n",
       "      <td>0</td>\n",
       "      <td>0</td>\n",
       "      <td>0</td>\n",
       "      <td>0</td>\n",
       "    </tr>\n",
       "    <tr>\n",
       "      <th>2</th>\n",
       "      <td>3304275</td>\n",
       "      <td>1018_-1</td>\n",
       "      <td>620962</td>\n",
       "      <td>Цех</td>\n",
       "      <td>7503</td>\n",
       "      <td>N</td>\n",
       "      <td>0</td>\n",
       "      <td>Y</td>\n",
       "      <td>N</td>\n",
       "      <td>50</td>\n",
       "      <td>...</td>\n",
       "      <td>62</td>\n",
       "      <td>3246292</td>\n",
       "      <td>3233068</td>\n",
       "      <td>6479360</td>\n",
       "      <td>52708071</td>\n",
       "      <td>0</td>\n",
       "      <td>1</td>\n",
       "      <td>0</td>\n",
       "      <td>0</td>\n",
       "      <td>0</td>\n",
       "    </tr>\n",
       "  </tbody>\n",
       "</table>\n",
       "<p>3 rows × 29 columns</p>\n",
       "</div>"
      ],
      "text/plain": [
       "        id oper_type + oper_attr index_oper     type  priority  \\\n",
       "0  6818780               1043_-1     628629  Участок      7503   \n",
       "1  9907176               1023_-1     102976     ММПО      7503   \n",
       "2  3304275               1018_-1     620962      Цех      7503   \n",
       "\n",
       "  is_privatecategory  class is_in_yandex is_return  weight  ...  \\\n",
       "0                  N      0            Y         N      87  ...   \n",
       "1                  N      0            N         N     107  ...   \n",
       "2                  N      0            Y         N      50  ...   \n",
       "\n",
       "   dist_qty_oper_login_1 total_qty_oper_login_1  total_qty_oper_login_0  \\\n",
       "0                     42                 720176                   58950   \n",
       "1                    914               48856658                83318932   \n",
       "2                     62                3246292                 3233068   \n",
       "\n",
       "   total_qty_over_index_and_type  total_qty_over_index  is_wrong_sndr_name  \\\n",
       "0                         779126               8290896                   0   \n",
       "1                      132175590             136819803                   0   \n",
       "2                        6479360              52708071                   0   \n",
       "\n",
       "  is_wrong_rcpn_name  is_wrong_phone_number  is_wrong_address  label  \n",
       "0                  0                      0                 0      0  \n",
       "1                  0                      0                 0      0  \n",
       "2                  1                      0                 0      0  \n",
       "\n",
       "[3 rows x 29 columns]"
      ]
     },
     "execution_count": 12,
     "metadata": {},
     "output_type": "execute_result"
    }
   ],
   "source": [
    "train_df = pd.read_csv(\n",
    "    filepath_or_buffer=\"Data/train_dataset_train.csv\",\n",
    "    dtype={\n",
    "        \"id\": \"int32\",\n",
    "        \"oper_type + oper_attr\": \"str\",            # Тип и атрибут операции\n",
    "        \"index_oper\": \"str\",                       # Индекс (почтовый) места операции, TODO: очистить данные\n",
    "        \"type\": \"str\",                             # Обозначение типа объекта почтовой связи (20 кат, вкл. 0)\n",
    "        \"priority\": \"int32\",                       # Приоритет объекта (0, 7503, 7504, 7506)        \n",
    "        \"is_privatecategory\": \"str\",               # Является отделением закрытого типа (Y, N)\n",
    "        \"class\": \"int32\",                          # Значение класса или категории объекта почтовой связи (0-5)\n",
    "        \"is_in_yandex\": \"str\",                     # Адрес отделения связи отображается в Яндекс-картах (Y, N)\n",
    "        \"is_return\": \"str\",                        # Отправление движется в направлении возврата (Y, N)\n",
    "        \"weight\": \"int32\",                         # Вес в граммах (округление до грамма, выбросы, проверить)\n",
    "        \"mailtype\": \"int32\",                       # Код вида отправления (0-9)\n",
    "        \"mailctg\": \"str\",                          # Код категории почтового отправления (-1-5, 5 кат.)\n",
    "        \"mailrank\": \"int32\",                       # Код разряда почтового отправления (0) TODO: - drop col\n",
    "        \"directctg\": \"int32\",                      # Код классификации отправления (0-2, 3 кат.)\n",
    "        \"transport_pay\": \"float\",                  # Общая сумма платы за пересылку в условной валюте (max=830.5)\n",
    "        \"postmark\": \"int32\",                       # Код отметки (Основной=0, 1, 8, 256, 512, 1024)\n",
    "        \"name_mfi\": \"str\",                         # Наименование вложений на бирке отправления (высокая кардинальность)\n",
    "        \"weight_mfi\": \"int32\",                     # Суммарная масса вложений - граммы (выбросы, проверить)\n",
    "        \"price_mfi\": \"int32\",                      # Суммарная стоимость вложений в условной валюте\n",
    "        \"dist_qty_oper_login_1\": \"int32\",          # К-во уник. имен операторов, при обработке mailtype\n",
    "        \"total_qty_oper_login_1\": \"int32\",         # К-во отправлений с уник. именем операторов, при обработке mailtype\n",
    "        \"total_qty_oper_login_0\": \"int32\",         # К-во отправлений mailtype, обработаны оператором на индексе\n",
    "        \"total_qty_over_index_and_type\": \"int32\",  # Общее к-во отправлений mailtype, обработанных на этом индексе\n",
    "        \"total_qty_over_index\": \"int32\",           # Общее к-во отправлений, прошедших обработку на этом индексе\n",
    "        \"is_wrong_sndr_name\": \"int32\",             # Имя отправителя введено некорректно (1, 0)\n",
    "        \"is_wrong_rcpn_name\": \"int32\",             # Имя получателя введено некорректно (1, 0)\n",
    "        \"is_wrong_phone_number\": \"int32\",          # Номер телефона получателя введен некорректно (1, 0)\n",
    "        \"is_wrong_address\": \"int32\",               # Адрес получателя введен некорректно (1, 0)\n",
    "        \"label\": \"int32\",                          # Таргет: 1 - цифровой след оборвался, 0 - вручено или возвращено\n",
    "    },\n",
    ")\n",
    "\n",
    "train_df.head(3)"
   ]
  },
  {
   "cell_type": "code",
   "execution_count": 4,
   "metadata": {},
   "outputs": [
    {
     "name": "stderr",
     "output_type": "stream",
     "text": [
      "C:\\Users\\Dmitry.Khodykin\\AppData\\Local\\Temp\\ipykernel_10368\\602459805.py:1: FutureWarning: null_counts is deprecated. Use show_counts instead\n",
      "  train_df.info(null_counts=True)\n"
     ]
    },
    {
     "name": "stdout",
     "output_type": "stream",
     "text": [
      "<class 'pandas.core.frame.DataFrame'>\n",
      "RangeIndex: 6000000 entries, 0 to 5999999\n",
      "Data columns (total 29 columns):\n",
      " #   Column                         Non-Null Count    Dtype  \n",
      "---  ------                         --------------    -----  \n",
      " 0   id                             6000000 non-null  int32  \n",
      " 1   oper_type + oper_attr          6000000 non-null  object \n",
      " 2   index_oper                     6000000 non-null  object \n",
      " 3   type                           6000000 non-null  object \n",
      " 4   priority                       6000000 non-null  int32  \n",
      " 5   is_privatecategory             6000000 non-null  object \n",
      " 6   class                          6000000 non-null  int32  \n",
      " 7   is_in_yandex                   6000000 non-null  object \n",
      " 8   is_return                      6000000 non-null  object \n",
      " 9   weight                         6000000 non-null  int32  \n",
      " 10  mailtype                       6000000 non-null  int32  \n",
      " 11  mailctg                        6000000 non-null  object \n",
      " 12  mailrank                       6000000 non-null  int32  \n",
      " 13  directctg                      6000000 non-null  int32  \n",
      " 14  transport_pay                  6000000 non-null  float64\n",
      " 15  postmark                       6000000 non-null  int32  \n",
      " 16  name_mfi                       6000000 non-null  object \n",
      " 17  weight_mfi                     6000000 non-null  int32  \n",
      " 18  price_mfi                      6000000 non-null  int32  \n",
      " 19  dist_qty_oper_login_1          6000000 non-null  int32  \n",
      " 20  total_qty_oper_login_1         6000000 non-null  int32  \n",
      " 21  total_qty_oper_login_0         6000000 non-null  int32  \n",
      " 22  total_qty_over_index_and_type  6000000 non-null  int32  \n",
      " 23  total_qty_over_index           6000000 non-null  int32  \n",
      " 24  is_wrong_sndr_name             6000000 non-null  int32  \n",
      " 25  is_wrong_rcpn_name             6000000 non-null  int32  \n",
      " 26  is_wrong_phone_number          6000000 non-null  int32  \n",
      " 27  is_wrong_address               6000000 non-null  int32  \n",
      " 28  label                          6000000 non-null  int32  \n",
      "dtypes: float64(1), int32(20), object(8)\n",
      "memory usage: 869.8+ MB\n"
     ]
    }
   ],
   "source": [
    "train_df.info(null_counts=True)"
   ]
  },
  {
   "cell_type": "code",
   "execution_count": 13,
   "metadata": {},
   "outputs": [
    {
     "data": {
      "text/html": [
       "<div>\n",
       "<style scoped>\n",
       "    .dataframe tbody tr th:only-of-type {\n",
       "        vertical-align: middle;\n",
       "    }\n",
       "\n",
       "    .dataframe tbody tr th {\n",
       "        vertical-align: top;\n",
       "    }\n",
       "\n",
       "    .dataframe thead th {\n",
       "        text-align: right;\n",
       "    }\n",
       "</style>\n",
       "<table border=\"1\" class=\"dataframe\">\n",
       "  <thead>\n",
       "    <tr style=\"text-align: right;\">\n",
       "      <th></th>\n",
       "      <th>id</th>\n",
       "      <th>oper_type + oper_attr</th>\n",
       "      <th>index_oper</th>\n",
       "      <th>type</th>\n",
       "      <th>priority</th>\n",
       "      <th>is_privatecategory</th>\n",
       "      <th>class</th>\n",
       "      <th>is_in_yandex</th>\n",
       "      <th>is_return</th>\n",
       "      <th>weight</th>\n",
       "      <th>...</th>\n",
       "      <th>price_mfi</th>\n",
       "      <th>dist_qty_oper_login_1</th>\n",
       "      <th>total_qty_oper_login_1</th>\n",
       "      <th>total_qty_oper_login_0</th>\n",
       "      <th>total_qty_over_index_and_type</th>\n",
       "      <th>total_qty_over_index</th>\n",
       "      <th>is_wrong_sndr_name</th>\n",
       "      <th>is_wrong_rcpn_name</th>\n",
       "      <th>is_wrong_phone_number</th>\n",
       "      <th>is_wrong_address</th>\n",
       "    </tr>\n",
       "  </thead>\n",
       "  <tbody>\n",
       "    <tr>\n",
       "      <th>0</th>\n",
       "      <td>7815282</td>\n",
       "      <td>8_13</td>\n",
       "      <td>102976</td>\n",
       "      <td>ММПО</td>\n",
       "      <td>7503</td>\n",
       "      <td>N</td>\n",
       "      <td>0</td>\n",
       "      <td>N</td>\n",
       "      <td>N</td>\n",
       "      <td>85</td>\n",
       "      <td>...</td>\n",
       "      <td>489</td>\n",
       "      <td>972</td>\n",
       "      <td>68766046</td>\n",
       "      <td>91123247</td>\n",
       "      <td>159889293</td>\n",
       "      <td>164927295</td>\n",
       "      <td>0</td>\n",
       "      <td>0</td>\n",
       "      <td>0</td>\n",
       "      <td>0</td>\n",
       "    </tr>\n",
       "    <tr>\n",
       "      <th>1</th>\n",
       "      <td>8443555</td>\n",
       "      <td>8_2</td>\n",
       "      <td>238753</td>\n",
       "      <td>ГОПС</td>\n",
       "      <td>7503</td>\n",
       "      <td>N</td>\n",
       "      <td>4</td>\n",
       "      <td>Y</td>\n",
       "      <td>N</td>\n",
       "      <td>21</td>\n",
       "      <td>...</td>\n",
       "      <td>186</td>\n",
       "      <td>2</td>\n",
       "      <td>2895</td>\n",
       "      <td>1545</td>\n",
       "      <td>4440</td>\n",
       "      <td>20623</td>\n",
       "      <td>0</td>\n",
       "      <td>1</td>\n",
       "      <td>1</td>\n",
       "      <td>0</td>\n",
       "    </tr>\n",
       "    <tr>\n",
       "      <th>2</th>\n",
       "      <td>6352559</td>\n",
       "      <td>1020_-1</td>\n",
       "      <td>618254</td>\n",
       "      <td>ГОПС</td>\n",
       "      <td>7503</td>\n",
       "      <td>N</td>\n",
       "      <td>4</td>\n",
       "      <td>Y</td>\n",
       "      <td>N</td>\n",
       "      <td>388</td>\n",
       "      <td>...</td>\n",
       "      <td>500</td>\n",
       "      <td>3</td>\n",
       "      <td>2751</td>\n",
       "      <td>993</td>\n",
       "      <td>3744</td>\n",
       "      <td>37817</td>\n",
       "      <td>0</td>\n",
       "      <td>0</td>\n",
       "      <td>0</td>\n",
       "      <td>0</td>\n",
       "    </tr>\n",
       "  </tbody>\n",
       "</table>\n",
       "<p>3 rows × 28 columns</p>\n",
       "</div>"
      ],
      "text/plain": [
       "        id oper_type + oper_attr index_oper  type  priority  \\\n",
       "0  7815282                  8_13     102976  ММПО      7503   \n",
       "1  8443555                   8_2     238753  ГОПС      7503   \n",
       "2  6352559               1020_-1     618254  ГОПС      7503   \n",
       "\n",
       "  is_privatecategory  class is_in_yandex is_return  weight  ...  price_mfi  \\\n",
       "0                  N      0            N         N      85  ...        489   \n",
       "1                  N      4            Y         N      21  ...        186   \n",
       "2                  N      4            Y         N     388  ...        500   \n",
       "\n",
       "  dist_qty_oper_login_1  total_qty_oper_login_1  total_qty_oper_login_0  \\\n",
       "0                   972                68766046                91123247   \n",
       "1                     2                    2895                    1545   \n",
       "2                     3                    2751                     993   \n",
       "\n",
       "   total_qty_over_index_and_type  total_qty_over_index is_wrong_sndr_name  \\\n",
       "0                      159889293             164927295                  0   \n",
       "1                           4440                 20623                  0   \n",
       "2                           3744                 37817                  0   \n",
       "\n",
       "   is_wrong_rcpn_name  is_wrong_phone_number  is_wrong_address  \n",
       "0                   0                      0                 0  \n",
       "1                   1                      1                 0  \n",
       "2                   0                      0                 0  \n",
       "\n",
       "[3 rows x 28 columns]"
      ]
     },
     "execution_count": 13,
     "metadata": {},
     "output_type": "execute_result"
    }
   ],
   "source": [
    "test_df = pd.read_csv(\n",
    "    filepath_or_buffer=\"Data/test_dataset_test.csv\",\n",
    "    dtype={\n",
    "        \"id\": \"int32\",\n",
    "        \"oper_type + oper_attr\": \"str\",\n",
    "        \"index_oper\": \"str\",\n",
    "        \"type\": \"str\",\n",
    "        \"priority\": \"int32\",       \n",
    "        \"is_privatecategory\": \"str\",\n",
    "        \"class\": \"int32\",\n",
    "        \"is_in_yandex\": \"str\",\n",
    "        \"is_return\": \"str\",\n",
    "        \"weight\": \"int32\",\n",
    "        \"mailtype\": \"int32\",\n",
    "        \"mailctg\": \"str\",\n",
    "        \"mailrank\": \"int32\",\n",
    "        \"directctg\": \"int32\",\n",
    "        \"transport_pay\": \"float\",\n",
    "        \"postmark\": \"int32\",\n",
    "        \"name_mfi\": \"str\",\n",
    "        \"weight_mfi\": \"int32\",\n",
    "        \"price_mfi\": \"int32\",\n",
    "        \"dist_qty_oper_login_1\": \"int32\",\n",
    "        \"total_qty_oper_login_1\": \"int32\",\n",
    "        \"total_qty_oper_login_0\": \"int32\",\n",
    "        \"total_qty_over_index_and_type\": \"int32\",\n",
    "        \"total_qty_over_index\": \"int32\",\n",
    "        \"is_wrong_sndr_name\": \"int32\",\n",
    "        \"is_wrong_rcpn_name\": \"int32\",\n",
    "        \"is_wrong_phone_number\": \"int32\",\n",
    "        \"is_wrong_address\": \"int32\",\n",
    "    },\n",
    ")\n",
    "\n",
    "test_df.head(3)"
   ]
  },
  {
   "cell_type": "code",
   "execution_count": 6,
   "metadata": {},
   "outputs": [
    {
     "name": "stderr",
     "output_type": "stream",
     "text": [
      "C:\\Users\\Dmitry.Khodykin\\AppData\\Local\\Temp\\ipykernel_10368\\198631561.py:1: FutureWarning: null_counts is deprecated. Use show_counts instead\n",
      "  test_df.info(null_counts=True)\n"
     ]
    },
    {
     "name": "stdout",
     "output_type": "stream",
     "text": [
      "<class 'pandas.core.frame.DataFrame'>\n",
      "RangeIndex: 4000000 entries, 0 to 3999999\n",
      "Data columns (total 28 columns):\n",
      " #   Column                         Non-Null Count    Dtype  \n",
      "---  ------                         --------------    -----  \n",
      " 0   id                             4000000 non-null  int32  \n",
      " 1   oper_type + oper_attr          4000000 non-null  object \n",
      " 2   index_oper                     4000000 non-null  object \n",
      " 3   type                           4000000 non-null  object \n",
      " 4   priority                       4000000 non-null  int32  \n",
      " 5   is_privatecategory             4000000 non-null  object \n",
      " 6   class                          4000000 non-null  int32  \n",
      " 7   is_in_yandex                   4000000 non-null  object \n",
      " 8   is_return                      4000000 non-null  object \n",
      " 9   weight                         4000000 non-null  int32  \n",
      " 10  mailtype                       4000000 non-null  int32  \n",
      " 11  mailctg                        4000000 non-null  object \n",
      " 12  mailrank                       4000000 non-null  int32  \n",
      " 13  directctg                      4000000 non-null  int32  \n",
      " 14  transport_pay                  4000000 non-null  float64\n",
      " 15  postmark                       4000000 non-null  int32  \n",
      " 16  name_mfi                       4000000 non-null  object \n",
      " 17  weight_mfi                     4000000 non-null  int32  \n",
      " 18  price_mfi                      4000000 non-null  int32  \n",
      " 19  dist_qty_oper_login_1          4000000 non-null  int32  \n",
      " 20  total_qty_oper_login_1         4000000 non-null  int32  \n",
      " 21  total_qty_oper_login_0         4000000 non-null  int32  \n",
      " 22  total_qty_over_index_and_type  4000000 non-null  int32  \n",
      " 23  total_qty_over_index           4000000 non-null  int32  \n",
      " 24  is_wrong_sndr_name             4000000 non-null  int32  \n",
      " 25  is_wrong_rcpn_name             4000000 non-null  int32  \n",
      " 26  is_wrong_phone_number          4000000 non-null  int32  \n",
      " 27  is_wrong_address               4000000 non-null  int32  \n",
      "dtypes: float64(1), int32(19), object(8)\n",
      "memory usage: 564.6+ MB\n"
     ]
    }
   ],
   "source": [
    "test_df.info(null_counts=True)"
   ]
  },
  {
   "cell_type": "markdown",
   "metadata": {},
   "source": [
    "## EDA + Features Engineering"
   ]
  },
  {
   "cell_type": "code",
   "execution_count": 97,
   "metadata": {},
   "outputs": [
    {
     "data": {
      "image/png": "[encoded data removed]",
      "text/plain": [
       "<Figure size 640x480 with 1 Axes>"
      ]
     },
     "metadata": {},
     "output_type": "display_data"
    }
   ],
   "source": [
    "# 1. Тип и атрибут операции: [\"oper_type + oper_attr\"]           \n",
    "\n",
    "sns.barplot(\n",
    "    y=train_df[\"oper_type + oper_attr\"].value_counts()[:30].index, \n",
    "    x=train_df[\"oper_type + oper_attr\"].value_counts()[:30].values\n",
    ");"
   ]
  },
  {
   "cell_type": "code",
   "execution_count": 98,
   "metadata": {},
   "outputs": [
    {
     "data": {
      "image/png": "[encoded data removed]",
      "text/plain": [
       "<Figure size 640x480 with 1 Axes>"
      ]
     },
     "metadata": {},
     "output_type": "display_data"
    }
   ],
   "source": [
    "sns.barplot(\n",
    "    y=test_df[\"oper_type + oper_attr\"].value_counts()[:30].index, \n",
    "    x=test_df[\"oper_type + oper_attr\"].value_counts()[:30].values\n",
    ");"
   ]
  },
  {
   "cell_type": "code",
   "execution_count": 37,
   "metadata": {},
   "outputs": [],
   "source": [
    "# Кодирование типа и атрибута хэшированным признаком,\n",
    "# так как мы не знаем полного словаря\n",
    "\n",
    "N_BUCKETS = 100\n",
    "\n",
    "\n",
    "def string_to_hash_bucket(col):\n",
    "    fingerprint = tf.strings.to_hash_bucket_fast(\n",
    "        col, \n",
    "        N_BUCKETS,\n",
    "    ).numpy()\n",
    "    return fingerprint\n",
    "\n",
    "\n",
    "train_df_featured = train_df.copy()\n",
    "test_df_featured = test_df.copy()\n",
    "\n",
    "train_df_featured[\"oper_hash\"] = train_df_featured[\"oper_type + oper_attr\"].apply(\n",
    "    string_to_hash_bucket\n",
    ")\n",
    "\n",
    "test_df_featured[\"oper_hash\"] = test_df_featured[\"oper_type + oper_attr\"].apply(\n",
    "    string_to_hash_bucket\n",
    ")\n",
    "\n",
    "train_df_featured = train_df_featured.drop([\"oper_type + oper_attr\"], axis=1)\n",
    "test_df_featured = test_df_featured.drop([\"oper_type + oper_attr\"], axis=1)\n"
   ]
  },
  {
   "cell_type": "code",
   "execution_count": 8,
   "metadata": {},
   "outputs": [
    {
     "data": {
      "text/html": [
       "<div>\n",
       "<style scoped>\n",
       "    .dataframe tbody tr th:only-of-type {\n",
       "        vertical-align: middle;\n",
       "    }\n",
       "\n",
       "    .dataframe tbody tr th {\n",
       "        vertical-align: top;\n",
       "    }\n",
       "\n",
       "    .dataframe thead th {\n",
       "        text-align: right;\n",
       "    }\n",
       "</style>\n",
       "<table border=\"1\" class=\"dataframe\">\n",
       "  <thead>\n",
       "    <tr style=\"text-align: right;\">\n",
       "      <th></th>\n",
       "      <th>id</th>\n",
       "      <th>index_oper</th>\n",
       "      <th>type</th>\n",
       "      <th>priority</th>\n",
       "      <th>is_privatecategory</th>\n",
       "      <th>class</th>\n",
       "      <th>is_in_yandex</th>\n",
       "      <th>is_return</th>\n",
       "      <th>weight</th>\n",
       "      <th>mailtype</th>\n",
       "      <th>...</th>\n",
       "      <th>total_qty_oper_login_1</th>\n",
       "      <th>total_qty_oper_login_0</th>\n",
       "      <th>total_qty_over_index_and_type</th>\n",
       "      <th>total_qty_over_index</th>\n",
       "      <th>is_wrong_sndr_name</th>\n",
       "      <th>is_wrong_rcpn_name</th>\n",
       "      <th>is_wrong_phone_number</th>\n",
       "      <th>is_wrong_address</th>\n",
       "      <th>label</th>\n",
       "      <th>oper_hash</th>\n",
       "    </tr>\n",
       "  </thead>\n",
       "  <tbody>\n",
       "    <tr>\n",
       "      <th>0</th>\n",
       "      <td>6818780</td>\n",
       "      <td>628629</td>\n",
       "      <td>Участок</td>\n",
       "      <td>7503</td>\n",
       "      <td>N</td>\n",
       "      <td>0</td>\n",
       "      <td>Y</td>\n",
       "      <td>N</td>\n",
       "      <td>87</td>\n",
       "      <td>5</td>\n",
       "      <td>...</td>\n",
       "      <td>720176</td>\n",
       "      <td>58950</td>\n",
       "      <td>779126</td>\n",
       "      <td>8290896</td>\n",
       "      <td>0</td>\n",
       "      <td>0</td>\n",
       "      <td>0</td>\n",
       "      <td>0</td>\n",
       "      <td>0</td>\n",
       "      <td>78</td>\n",
       "    </tr>\n",
       "    <tr>\n",
       "      <th>1</th>\n",
       "      <td>9907176</td>\n",
       "      <td>102976</td>\n",
       "      <td>ММПО</td>\n",
       "      <td>7503</td>\n",
       "      <td>N</td>\n",
       "      <td>0</td>\n",
       "      <td>N</td>\n",
       "      <td>N</td>\n",
       "      <td>107</td>\n",
       "      <td>5</td>\n",
       "      <td>...</td>\n",
       "      <td>48856658</td>\n",
       "      <td>83318932</td>\n",
       "      <td>132175590</td>\n",
       "      <td>136819803</td>\n",
       "      <td>0</td>\n",
       "      <td>0</td>\n",
       "      <td>0</td>\n",
       "      <td>0</td>\n",
       "      <td>0</td>\n",
       "      <td>80</td>\n",
       "    </tr>\n",
       "    <tr>\n",
       "      <th>2</th>\n",
       "      <td>3304275</td>\n",
       "      <td>620962</td>\n",
       "      <td>Цех</td>\n",
       "      <td>7503</td>\n",
       "      <td>N</td>\n",
       "      <td>0</td>\n",
       "      <td>Y</td>\n",
       "      <td>N</td>\n",
       "      <td>50</td>\n",
       "      <td>5</td>\n",
       "      <td>...</td>\n",
       "      <td>3246292</td>\n",
       "      <td>3233068</td>\n",
       "      <td>6479360</td>\n",
       "      <td>52708071</td>\n",
       "      <td>0</td>\n",
       "      <td>1</td>\n",
       "      <td>0</td>\n",
       "      <td>0</td>\n",
       "      <td>0</td>\n",
       "      <td>19</td>\n",
       "    </tr>\n",
       "    <tr>\n",
       "      <th>3</th>\n",
       "      <td>9020937</td>\n",
       "      <td>344964</td>\n",
       "      <td>Цех</td>\n",
       "      <td>7503</td>\n",
       "      <td>N</td>\n",
       "      <td>0</td>\n",
       "      <td>Y</td>\n",
       "      <td>N</td>\n",
       "      <td>416</td>\n",
       "      <td>5</td>\n",
       "      <td>...</td>\n",
       "      <td>2060928</td>\n",
       "      <td>653280</td>\n",
       "      <td>2714208</td>\n",
       "      <td>19562334</td>\n",
       "      <td>0</td>\n",
       "      <td>0</td>\n",
       "      <td>0</td>\n",
       "      <td>0</td>\n",
       "      <td>0</td>\n",
       "      <td>5</td>\n",
       "    </tr>\n",
       "    <tr>\n",
       "      <th>4</th>\n",
       "      <td>3082311</td>\n",
       "      <td>629819</td>\n",
       "      <td>Участок</td>\n",
       "      <td>7503</td>\n",
       "      <td>N</td>\n",
       "      <td>0</td>\n",
       "      <td>Y</td>\n",
       "      <td>N</td>\n",
       "      <td>795</td>\n",
       "      <td>5</td>\n",
       "      <td>...</td>\n",
       "      <td>316919</td>\n",
       "      <td>27911</td>\n",
       "      <td>344830</td>\n",
       "      <td>4719186</td>\n",
       "      <td>0</td>\n",
       "      <td>0</td>\n",
       "      <td>0</td>\n",
       "      <td>0</td>\n",
       "      <td>0</td>\n",
       "      <td>90</td>\n",
       "    </tr>\n",
       "  </tbody>\n",
       "</table>\n",
       "<p>5 rows × 29 columns</p>\n",
       "</div>"
      ],
      "text/plain": [
       "        id index_oper     type  priority is_privatecategory  class  \\\n",
       "0  6818780     628629  Участок      7503                  N      0   \n",
       "1  9907176     102976     ММПО      7503                  N      0   \n",
       "2  3304275     620962      Цех      7503                  N      0   \n",
       "3  9020937     344964      Цех      7503                  N      0   \n",
       "4  3082311     629819  Участок      7503                  N      0   \n",
       "\n",
       "  is_in_yandex is_return  weight  mailtype  ... total_qty_oper_login_1  \\\n",
       "0            Y         N      87         5  ...                 720176   \n",
       "1            N         N     107         5  ...               48856658   \n",
       "2            Y         N      50         5  ...                3246292   \n",
       "3            Y         N     416         5  ...                2060928   \n",
       "4            Y         N     795         5  ...                 316919   \n",
       "\n",
       "   total_qty_oper_login_0  total_qty_over_index_and_type  \\\n",
       "0                   58950                         779126   \n",
       "1                83318932                      132175590   \n",
       "2                 3233068                        6479360   \n",
       "3                  653280                        2714208   \n",
       "4                   27911                         344830   \n",
       "\n",
       "   total_qty_over_index  is_wrong_sndr_name is_wrong_rcpn_name  \\\n",
       "0               8290896                   0                  0   \n",
       "1             136819803                   0                  0   \n",
       "2              52708071                   0                  1   \n",
       "3              19562334                   0                  0   \n",
       "4               4719186                   0                  0   \n",
       "\n",
       "   is_wrong_phone_number  is_wrong_address  label  oper_hash  \n",
       "0                      0                 0      0         78  \n",
       "1                      0                 0      0         80  \n",
       "2                      0                 0      0         19  \n",
       "3                      0                 0      0          5  \n",
       "4                      0                 0      0         90  \n",
       "\n",
       "[5 rows x 29 columns]"
      ]
     },
     "execution_count": 8,
     "metadata": {},
     "output_type": "execute_result"
    }
   ],
   "source": [
    "train_df_featured.head()"
   ]
  },
  {
   "cell_type": "code",
   "execution_count": 9,
   "metadata": {},
   "outputs": [
    {
     "data": {
      "image/png": "[encoded data removed]",
      "text/plain": [
       "<Figure size 500x500 with 1 Axes>"
      ]
     },
     "metadata": {},
     "output_type": "display_data"
    }
   ],
   "source": [
    "sns.displot(train_df_featured[\"oper_hash\"]);"
   ]
  },
  {
   "cell_type": "markdown",
   "metadata": {},
   "source": [
    "Количество корзин операций в будущем можно уменьшить для более равномерного распределения."
   ]
  },
  {
   "cell_type": "code",
   "execution_count": 10,
   "metadata": {},
   "outputs": [
    {
     "name": "stdout",
     "output_type": "stream",
     "text": [
      "Количество отделений почты: 22159\n"
     ]
    }
   ],
   "source": [
    "# 2. index_oper: \"str\", Индекс (почтовый) места операции, TODO: очистить данные\n",
    "# Первые три цифры индекса соответствуют определенному субъекту федерации, \n",
    "# следующие три — номеру почтового отделения в нём\n",
    "\n",
    "print(\n",
    "    \"Количество отделений почты:\", len(\n",
    "        train_df_featured[\"index_oper\"].unique()\n",
    "    )\n",
    ")"
   ]
  },
  {
   "cell_type": "code",
   "execution_count": 38,
   "metadata": {},
   "outputs": [],
   "source": [
    "# Пустые индексы преобразуем\n",
    "\n",
    "train_df_featured[\"index_oper\"] = train_df_featured[\"index_oper\"].apply(\n",
    "    lambda x: 900_000 if x == \" \" else x\n",
    ")\n",
    "\n",
    "test_df_featured[\"index_oper\"] = test_df_featured[\"index_oper\"].apply(\n",
    "    lambda x: 900_000 if x == \" \" else x\n",
    ")\n",
    "\n",
    "train_df_featured[\"index_oper\"] = train_df_featured[\"index_oper\"].astype(\"float\").astype(\"int32\")\n",
    "test_df_featured[\"index_oper\"] = test_df_featured[\"index_oper\"].astype(\"float\").astype(\"int32\")\n",
    "\n",
    "train_df_featured[\"index_oper\"] = train_df_featured[\"index_oper\"].apply(\n",
    "    lambda x: 900_000 if x == 0 else x\n",
    ")\n",
    "\n",
    "test_df_featured[\"index_oper\"] = test_df_featured[\"index_oper\"].apply(\n",
    "    lambda x: 900_000 if x == 0 else x\n",
    ")\n"
   ]
  },
  {
   "cell_type": "code",
   "execution_count": 39,
   "metadata": {},
   "outputs": [],
   "source": [
    "train_df_featured[\"index_oper\"] = train_df_featured[\"index_oper\"].astype(\"str\").apply(lambda x: x[:3])\n",
    "test_df_featured[\"index_oper\"] = test_df_featured[\"index_oper\"].astype(\"str\").apply(lambda x: x[:3])"
   ]
  },
  {
   "cell_type": "code",
   "execution_count": 40,
   "metadata": {},
   "outputs": [
    {
     "name": "stdout",
     "output_type": "stream",
     "text": [
      "Количество отделений почты: 236\n"
     ]
    }
   ],
   "source": [
    "print(\n",
    "    \"Количество отделений почты:\", len(\n",
    "        train_df_featured[\"index_oper\"].unique()\n",
    "    )\n",
    ")"
   ]
  },
  {
   "cell_type": "code",
   "execution_count": 14,
   "metadata": {},
   "outputs": [
    {
     "name": "stdout",
     "output_type": "stream",
     "text": [
      "<class 'pandas.core.frame.DataFrame'>\n",
      "RangeIndex: 6000000 entries, 0 to 5999999\n",
      "Data columns (total 29 columns):\n",
      " #   Column                         Dtype  \n",
      "---  ------                         -----  \n",
      " 0   id                             int32  \n",
      " 1   index_oper                     object \n",
      " 2   type                           object \n",
      " 3   priority                       int32  \n",
      " 4   is_privatecategory             object \n",
      " 5   class                          int32  \n",
      " 6   is_in_yandex                   object \n",
      " 7   is_return                      object \n",
      " 8   weight                         int32  \n",
      " 9   mailtype                       int32  \n",
      " 10  mailctg                        object \n",
      " 11  mailrank                       int32  \n",
      " 12  directctg                      int32  \n",
      " 13  transport_pay                  float64\n",
      " 14  postmark                       int32  \n",
      " 15  name_mfi                       object \n",
      " 16  weight_mfi                     int32  \n",
      " 17  price_mfi                      int32  \n",
      " 18  dist_qty_oper_login_1          int32  \n",
      " 19  total_qty_oper_login_1         int32  \n",
      " 20  total_qty_oper_login_0         int32  \n",
      " 21  total_qty_over_index_and_type  int32  \n",
      " 22  total_qty_over_index           int32  \n",
      " 23  is_wrong_sndr_name             int32  \n",
      " 24  is_wrong_rcpn_name             int32  \n",
      " 25  is_wrong_phone_number          int32  \n",
      " 26  is_wrong_address               int32  \n",
      " 27  label                          int32  \n",
      " 28  oper_hash                      int64  \n",
      "dtypes: float64(1), int32(20), int64(1), object(7)\n",
      "memory usage: 869.8+ MB\n"
     ]
    }
   ],
   "source": [
    "train_df_featured.info()"
   ]
  },
  {
   "cell_type": "code",
   "execution_count": 41,
   "metadata": {},
   "outputs": [],
   "source": [
    "%timeit\n",
    "\n",
    "N_COMP = 10\n",
    "\n",
    "pca = PCA(n_components=N_COMP, random_state=SEED)\n",
    "index_oper_pca_train = pca.fit_transform(\n",
    "    pd.get_dummies(train_df_featured[\"index_oper\"])\n",
    ")\n",
    "index_oper_pca_test = pca.transform(\n",
    "    pd.get_dummies(test_df_featured[\"index_oper\"])\n",
    ")\n"
   ]
  },
  {
   "cell_type": "code",
   "execution_count": 43,
   "metadata": {},
   "outputs": [
    {
     "name": "stdout",
     "output_type": "stream",
     "text": [
      "index pca train: (6000000, 10) \n",
      " index pca test: (4000000, 10)\n"
     ]
    }
   ],
   "source": [
    "print(\n",
    "    \"index pca train:\", index_oper_pca_train.shape, \"\\n\",\n",
    "    \"index pca test:\", index_oper_pca_test.shape\n",
    ")"
   ]
  },
  {
   "cell_type": "code",
   "execution_count": 42,
   "metadata": {},
   "outputs": [],
   "source": [
    "pca_col = 0\n",
    "for i in range(N_COMP):\n",
    "    train_df_featured[f\"index_pca_{pca_col}\"] = index_oper_pca_train[:, 0+pca_col:1+pca_col]\n",
    "    test_df_featured[f\"index_pca_{pca_col}\"] = index_oper_pca_test[:, 0+pca_col:1+pca_col]\n",
    "    pca_col = pca_col + 1"
   ]
  },
  {
   "cell_type": "code",
   "execution_count": 46,
   "metadata": {},
   "outputs": [
    {
     "data": {
      "text/html": [
       "<div>\n",
       "<style scoped>\n",
       "    .dataframe tbody tr th:only-of-type {\n",
       "        vertical-align: middle;\n",
       "    }\n",
       "\n",
       "    .dataframe tbody tr th {\n",
       "        vertical-align: top;\n",
       "    }\n",
       "\n",
       "    .dataframe thead th {\n",
       "        text-align: right;\n",
       "    }\n",
       "</style>\n",
       "<table border=\"1\" class=\"dataframe\">\n",
       "  <thead>\n",
       "    <tr style=\"text-align: right;\">\n",
       "      <th></th>\n",
       "      <th>id</th>\n",
       "      <th>index_oper</th>\n",
       "      <th>type</th>\n",
       "      <th>priority</th>\n",
       "      <th>is_privatecategory</th>\n",
       "      <th>class</th>\n",
       "      <th>is_in_yandex</th>\n",
       "      <th>is_return</th>\n",
       "      <th>weight</th>\n",
       "      <th>mailtype</th>\n",
       "      <th>...</th>\n",
       "      <th>index_pca_0</th>\n",
       "      <th>index_pca_1</th>\n",
       "      <th>index_pca_2</th>\n",
       "      <th>index_pca_3</th>\n",
       "      <th>index_pca_4</th>\n",
       "      <th>index_pca_5</th>\n",
       "      <th>index_pca_6</th>\n",
       "      <th>index_pca_7</th>\n",
       "      <th>index_pca_8</th>\n",
       "      <th>index_pca_9</th>\n",
       "    </tr>\n",
       "  </thead>\n",
       "  <tbody>\n",
       "    <tr>\n",
       "      <th>0</th>\n",
       "      <td>6818780</td>\n",
       "      <td>628</td>\n",
       "      <td>Участок</td>\n",
       "      <td>7503</td>\n",
       "      <td>N</td>\n",
       "      <td>0</td>\n",
       "      <td>Y</td>\n",
       "      <td>N</td>\n",
       "      <td>87</td>\n",
       "      <td>5</td>\n",
       "      <td>...</td>\n",
       "      <td>0.493064</td>\n",
       "      <td>-0.005066</td>\n",
       "      <td>0.013730</td>\n",
       "      <td>0.069485</td>\n",
       "      <td>-0.075842</td>\n",
       "      <td>-0.075738</td>\n",
       "      <td>-0.024413</td>\n",
       "      <td>-0.087494</td>\n",
       "      <td>-0.015022</td>\n",
       "      <td>-0.009378</td>\n",
       "    </tr>\n",
       "    <tr>\n",
       "      <th>1</th>\n",
       "      <td>9907176</td>\n",
       "      <td>102</td>\n",
       "      <td>ММПО</td>\n",
       "      <td>7503</td>\n",
       "      <td>N</td>\n",
       "      <td>0</td>\n",
       "      <td>N</td>\n",
       "      <td>N</td>\n",
       "      <td>107</td>\n",
       "      <td>5</td>\n",
       "      <td>...</td>\n",
       "      <td>-0.505238</td>\n",
       "      <td>0.000291</td>\n",
       "      <td>-0.000764</td>\n",
       "      <td>-0.003335</td>\n",
       "      <td>0.002861</td>\n",
       "      <td>0.002139</td>\n",
       "      <td>0.000484</td>\n",
       "      <td>0.001473</td>\n",
       "      <td>0.000174</td>\n",
       "      <td>0.000099</td>\n",
       "    </tr>\n",
       "    <tr>\n",
       "      <th>2</th>\n",
       "      <td>3304275</td>\n",
       "      <td>620</td>\n",
       "      <td>Цех</td>\n",
       "      <td>7503</td>\n",
       "      <td>N</td>\n",
       "      <td>0</td>\n",
       "      <td>Y</td>\n",
       "      <td>N</td>\n",
       "      <td>50</td>\n",
       "      <td>5</td>\n",
       "      <td>...</td>\n",
       "      <td>0.552884</td>\n",
       "      <td>0.779414</td>\n",
       "      <td>-0.348350</td>\n",
       "      <td>-0.354971</td>\n",
       "      <td>0.149827</td>\n",
       "      <td>0.076229</td>\n",
       "      <td>0.013428</td>\n",
       "      <td>0.037953</td>\n",
       "      <td>0.003742</td>\n",
       "      <td>0.002086</td>\n",
       "    </tr>\n",
       "    <tr>\n",
       "      <th>3</th>\n",
       "      <td>9020937</td>\n",
       "      <td>344</td>\n",
       "      <td>Цех</td>\n",
       "      <td>7503</td>\n",
       "      <td>N</td>\n",
       "      <td>0</td>\n",
       "      <td>Y</td>\n",
       "      <td>N</td>\n",
       "      <td>416</td>\n",
       "      <td>5</td>\n",
       "      <td>...</td>\n",
       "      <td>0.492901</td>\n",
       "      <td>-0.005050</td>\n",
       "      <td>0.013686</td>\n",
       "      <td>0.069233</td>\n",
       "      <td>-0.075491</td>\n",
       "      <td>-0.075269</td>\n",
       "      <td>-0.024376</td>\n",
       "      <td>-0.086488</td>\n",
       "      <td>-0.018081</td>\n",
       "      <td>-0.010051</td>\n",
       "    </tr>\n",
       "    <tr>\n",
       "      <th>4</th>\n",
       "      <td>3082311</td>\n",
       "      <td>629</td>\n",
       "      <td>Участок</td>\n",
       "      <td>7503</td>\n",
       "      <td>N</td>\n",
       "      <td>0</td>\n",
       "      <td>Y</td>\n",
       "      <td>N</td>\n",
       "      <td>795</td>\n",
       "      <td>5</td>\n",
       "      <td>...</td>\n",
       "      <td>0.486400</td>\n",
       "      <td>-0.004493</td>\n",
       "      <td>0.012133</td>\n",
       "      <td>0.060349</td>\n",
       "      <td>-0.063693</td>\n",
       "      <td>-0.060460</td>\n",
       "      <td>-0.018048</td>\n",
       "      <td>-0.061636</td>\n",
       "      <td>-0.010986</td>\n",
       "      <td>-0.006453</td>\n",
       "    </tr>\n",
       "  </tbody>\n",
       "</table>\n",
       "<p>5 rows × 39 columns</p>\n",
       "</div>"
      ],
      "text/plain": [
       "        id index_oper     type  priority is_privatecategory  class  \\\n",
       "0  6818780        628  Участок      7503                  N      0   \n",
       "1  9907176        102     ММПО      7503                  N      0   \n",
       "2  3304275        620      Цех      7503                  N      0   \n",
       "3  9020937        344      Цех      7503                  N      0   \n",
       "4  3082311        629  Участок      7503                  N      0   \n",
       "\n",
       "  is_in_yandex is_return  weight  mailtype  ... index_pca_0  index_pca_1  \\\n",
       "0            Y         N      87         5  ...    0.493064    -0.005066   \n",
       "1            N         N     107         5  ...   -0.505238     0.000291   \n",
       "2            Y         N      50         5  ...    0.552884     0.779414   \n",
       "3            Y         N     416         5  ...    0.492901    -0.005050   \n",
       "4            Y         N     795         5  ...    0.486400    -0.004493   \n",
       "\n",
       "   index_pca_2  index_pca_3  index_pca_4 index_pca_5  index_pca_6  \\\n",
       "0     0.013730     0.069485    -0.075842   -0.075738    -0.024413   \n",
       "1    -0.000764    -0.003335     0.002861    0.002139     0.000484   \n",
       "2    -0.348350    -0.354971     0.149827    0.076229     0.013428   \n",
       "3     0.013686     0.069233    -0.075491   -0.075269    -0.024376   \n",
       "4     0.012133     0.060349    -0.063693   -0.060460    -0.018048   \n",
       "\n",
       "   index_pca_7  index_pca_8  index_pca_9  \n",
       "0    -0.087494    -0.015022    -0.009378  \n",
       "1     0.001473     0.000174     0.000099  \n",
       "2     0.037953     0.003742     0.002086  \n",
       "3    -0.086488    -0.018081    -0.010051  \n",
       "4    -0.061636    -0.010986    -0.006453  \n",
       "\n",
       "[5 rows x 39 columns]"
      ]
     },
     "execution_count": 46,
     "metadata": {},
     "output_type": "execute_result"
    }
   ],
   "source": [
    "train_df_featured.head()"
   ]
  },
  {
   "cell_type": "markdown",
   "metadata": {},
   "source": [
    "10X_XXX - почтовые индексы Москвы. Все грузы, судя по распределению, проходят через почтовые отделения МСК."
   ]
  },
  {
   "cell_type": "code",
   "execution_count": 53,
   "metadata": {},
   "outputs": [],
   "source": [
    "# Поскольку индекс почты, признак категориальный, также захэшируем его\n",
    "\n",
    "N_BUCKETS = 10\n",
    "\n",
    "\n",
    "def string_to_hash_bucket(col):\n",
    "    fingerprint = tf.strings.to_hash_bucket_fast(\n",
    "        col, \n",
    "        N_BUCKETS,\n",
    "    ).numpy()\n",
    "    return fingerprint\n",
    "\n",
    "\n",
    "train_df_featured[\"index_oper\"] = train_df_featured[\"index_oper\"].astype(\"str\")\n",
    "test_df_featured[\"index_oper\"] =  test_df_featured[\"index_oper\"].astype(\"str\")\n",
    "\n",
    "train_df_featured[\"hashed_index\"] = train_df_featured[\"index_oper\"].apply(\n",
    "    string_to_hash_bucket\n",
    ")\n",
    "\n",
    "test_df_featured[\"hashed_index\"] = test_df_featured[\"index_oper\"].apply(\n",
    "    string_to_hash_bucket\n",
    ")"
   ]
  },
  {
   "cell_type": "code",
   "execution_count": 54,
   "metadata": {},
   "outputs": [],
   "source": [
    "train_df_featured[\"index_oper\"] = train_df_featured[\"index_oper\"].astype(\"int32\")\n",
    "test_df_featured[\"index_oper\"] =  test_df_featured[\"index_oper\"].astype(\"int32\")"
   ]
  },
  {
   "cell_type": "code",
   "execution_count": 149,
   "metadata": {},
   "outputs": [],
   "source": [
    "# train_df_featured[\"index_oper\"] = train_df_featured[\"index_oper\"].astype(\"int32\")\n",
    "# test_df_featured[\"index_oper\"] = test_df_featured[\"index_oper\"].astype(\"int32\")\n",
    "\n",
    "# train_df_featured[\"index_oper\"] = train_df_featured[\"index_oper\"].apply(lambda x: 900_000 if x == 0 else x)\n",
    "# test_df_featured[\"index_oper\"] = test_df_featured[\"index_oper\"].apply(lambda x: 900_000 if x == 0 else x)"
   ]
  },
  {
   "cell_type": "code",
   "execution_count": 153,
   "metadata": {},
   "outputs": [],
   "source": [
    "# Параметрическое, монотонное преобразование, позволяющее сделать данные более гауссоподобными\n",
    "\n",
    "# train_df_featured[\"index_oper_boxed\"], est_lambda = (\n",
    "#     scipy.stats.boxcox(train_df_featured[\"index_oper\"])\n",
    "# )\n",
    "\n",
    "# test_df_featured[\"index_oper_boxed\"] = scipy.stats.boxcox(\n",
    "#     test_df_featured[\"index_oper\"], est_lambda\n",
    "# )"
   ]
  },
  {
   "cell_type": "code",
   "execution_count": 55,
   "metadata": {},
   "outputs": [
    {
     "data": {
      "image/png": "[encoded data removed]",
      "text/plain": [
       "<Figure size 500x500 with 1 Axes>"
      ]
     },
     "metadata": {},
     "output_type": "display_data"
    }
   ],
   "source": [
    "sns.displot(train_df_featured[\"hashed_index\"]);"
   ]
  },
  {
   "cell_type": "code",
   "execution_count": 177,
   "metadata": {},
   "outputs": [],
   "source": [
    "# \"name_mfi\": \"str\", Наименование вложений на бирке отправления (высокая кардинальность)"
   ]
  },
  {
   "cell_type": "code",
   "execution_count": 56,
   "metadata": {},
   "outputs": [],
   "source": [
    "# Очистим текст\n",
    "train_df_featured[\"name_mfi_cleaned\"] = hero.clean(train_df_featured[\"name_mfi\"])\n",
    "test_df_featured[\"name_mfi_cleaned\"] = hero.clean(test_df_featured[\"name_mfi\"])"
   ]
  },
  {
   "cell_type": "code",
   "execution_count": 57,
   "metadata": {},
   "outputs": [],
   "source": [
    "# Создадим векторы из текста\n",
    "\n",
    "VEC_LEN = 10\n",
    "\n",
    "def vectorize_layer(\n",
    "    input_data,\n",
    "    vocab_size=5_000,\n",
    "    max_len=VEC_LEN,\n",
    "):\n",
    "    vectorizer = keras.layers.experimental.preprocessing.TextVectorization(\n",
    "        max_tokens=vocab_size,\n",
    "        standardize='lower_and_strip_punctuation',\n",
    "        split='whitespace',\n",
    "        output_sequence_length=max_len,\n",
    "        output_mode='int',\n",
    "    )\n",
    "    text_dataset = tf.data.Dataset.from_tensor_slices(\n",
    "        [txt for txt in train_df[\"name_mfi\"]]\n",
    "    )\n",
    "    vectorizer.adapt(text_dataset.batch(64))\n",
    "    model = tf.keras.models.Sequential()\n",
    "    model.add(tf.keras.Input(shape=(1,), dtype=tf.string))\n",
    "    model.add(vectorizer)\n",
    "    \n",
    "    _data = [[input_data]]\n",
    "     \n",
    "    return model.predict(_data)"
   ]
  },
  {
   "cell_type": "code",
   "execution_count": 58,
   "metadata": {},
   "outputs": [
    {
     "name": "stdout",
     "output_type": "stream",
     "text": [
      "187500/187500 [==============================] - 24530s 131ms/step\n",
      "125000/125000 [==============================] - 51110s 409ms/step\n"
     ]
    }
   ],
   "source": [
    "train_vectorized_mfi = vectorize_layer(train_df_featured[\"name_mfi_cleaned\"])\n",
    "test_vectorized_mfi = vectorize_layer(test_df_featured[\"name_mfi_cleaned\"])"
   ]
  },
  {
   "cell_type": "code",
   "execution_count": 59,
   "metadata": {},
   "outputs": [
    {
     "name": "stdout",
     "output_type": "stream",
     "text": [
      "train_vector shape: (6000000, 10) \n",
      " test_vector shape: (4000000, 10)\n"
     ]
    }
   ],
   "source": [
    "# Преобразуем матрицу в столбцы датафрейма\n",
    "\n",
    "print(\n",
    "    \"train_vector shape:\", train_vectorized_mfi.shape, \"\\n\",\n",
    "    \"test_vector shape:\", test_vectorized_mfi.shape,\n",
    ")"
   ]
  },
  {
   "cell_type": "code",
   "execution_count": 60,
   "metadata": {},
   "outputs": [
    {
     "data": {
      "text/plain": [
       "array([[4116,   41,    0, ...,    0,    0,    0],\n",
       "       [   8,   24,    5, ...,    0,    0,    0],\n",
       "       [ 184,  236,   70, ...,    0,    0,    0],\n",
       "       ...,\n",
       "       [ 316,    0,    0, ...,    0,    0,    0],\n",
       "       [   0,    0,    0, ...,    0,    0,    0],\n",
       "       [  26,   58,   26, ...,    0,    0,    0]], dtype=int64)"
      ]
     },
     "execution_count": 60,
     "metadata": {},
     "output_type": "execute_result"
    }
   ],
   "source": [
    "train_vectorized_mfi"
   ]
  },
  {
   "cell_type": "code",
   "execution_count": 61,
   "metadata": {},
   "outputs": [
    {
     "data": {
      "text/plain": [
       "array([[4116],\n",
       "       [   8],\n",
       "       [ 184],\n",
       "       ...,\n",
       "       [ 316],\n",
       "       [   0],\n",
       "       [  26]], dtype=int64)"
      ]
     },
     "execution_count": 61,
     "metadata": {},
     "output_type": "execute_result"
    }
   ],
   "source": [
    "vec_col = 0\n",
    "train_vectorized_mfi[:, 0+vec_col:1+vec_col]"
   ]
  },
  {
   "cell_type": "code",
   "execution_count": 62,
   "metadata": {},
   "outputs": [],
   "source": [
    "vec_col = 0\n",
    "for i in range(VEC_LEN):\n",
    "    train_df_featured[f\"embed_txt_{vec_col}\"] = train_vectorized_mfi[:, 0+vec_col:1+vec_col]\n",
    "    test_df_featured[f\"embed_txt_{vec_col}\"] = test_vectorized_mfi[:, 0+vec_col:1+vec_col]\n",
    "    vec_col = vec_col + 1"
   ]
  },
  {
   "cell_type": "code",
   "execution_count": 72,
   "metadata": {},
   "outputs": [
    {
     "data": {
      "text/plain": [
       "Цех               2093668\n",
       "ММПО              1614974\n",
       "Участок            926631\n",
       "ГОПС               463750\n",
       "ТИ                 305490\n",
       "П                  245814\n",
       "МСЦ                223241\n",
       "СОПС                72161\n",
       "СЦ                  12469\n",
       "ОП                   9527\n",
       "МСО                  7465\n",
       "ОПП                  7190\n",
       "АОПП                 6682\n",
       "МРП                  3850\n",
       "0                    3444\n",
       "АО                   1304\n",
       "ПЕРЕДВИЖНОЕ ОС       1006\n",
       "ППС                   682\n",
       "УМСЦ                  569\n",
       "УКД                    83\n",
       "Name: type, dtype: int64"
      ]
     },
     "execution_count": 72,
     "metadata": {},
     "output_type": "execute_result"
    }
   ],
   "source": [
    "train_df_featured[\"type\"].value_counts()"
   ]
  },
  {
   "cell_type": "code",
   "execution_count": 65,
   "metadata": {},
   "outputs": [
    {
     "name": "stdout",
     "output_type": "stream",
     "text": [
      "train_type_arr shape: (6000000, 20) \n",
      " test_type_arr shape: (4000000, 20)\n"
     ]
    }
   ],
   "source": [
    "# \"type\": \"str\", Обозначение типа объекта почтовой связи (20 кат, вкл. 0)\n",
    "\n",
    "train_type_arr = pd.get_dummies(train_df_featured[\"type\"])\n",
    "test_type_arr = pd.get_dummies(test_df_featured[\"type\"])\n",
    "\n",
    "print(\n",
    "    \"train_type_arr shape:\", train_type_arr.shape, \"\\n\",\n",
    "    \"test_type_arr shape:\", test_type_arr.shape,\n",
    ")"
   ]
  },
  {
   "cell_type": "code",
   "execution_count": 66,
   "metadata": {},
   "outputs": [
    {
     "data": {
      "text/plain": [
       "Index(['0', 'АО', 'АОПП', 'ГОПС', 'ММПО', 'МРП', 'МСО', 'МСЦ', 'ОП', 'ОПП',\n",
       "       'П', 'ПЕРЕДВИЖНОЕ ОС', 'ППС', 'СОПС', 'СЦ', 'ТИ', 'УКД', 'УМСЦ',\n",
       "       'Участок', 'Цех'],\n",
       "      dtype='object')"
      ]
     },
     "execution_count": 66,
     "metadata": {},
     "output_type": "execute_result"
    }
   ],
   "source": [
    "train_type_arr.columns"
   ]
  },
  {
   "cell_type": "code",
   "execution_count": 67,
   "metadata": {},
   "outputs": [
    {
     "data": {
      "text/plain": [
       "Index(['0', 'АО', 'АОПП', 'ГОПС', 'ММПО', 'МРП', 'МСО', 'МСЦ', 'ОП', 'ОПП',\n",
       "       'П', 'ПЕРЕДВИЖНОЕ ОС', 'ППС', 'СОПС', 'СЦ', 'ТИ', 'УКД', 'УМСЦ',\n",
       "       'Участок', 'Цех'],\n",
       "      dtype='object')"
      ]
     },
     "execution_count": 67,
     "metadata": {},
     "output_type": "execute_result"
    }
   ],
   "source": [
    "test_type_arr.columns"
   ]
  },
  {
   "cell_type": "code",
   "execution_count": 77,
   "metadata": {},
   "outputs": [
    {
     "data": {
      "text/plain": [
       "0    5536250\n",
       "1     463750\n",
       "Name: ГОПС, dtype: int64"
      ]
     },
     "execution_count": 77,
     "metadata": {},
     "output_type": "execute_result"
    }
   ],
   "source": [
    "train_type_arr[\"ГОПС\"].value_counts()"
   ]
  },
  {
   "cell_type": "code",
   "execution_count": 78,
   "metadata": {},
   "outputs": [],
   "source": [
    "for col_type in train_type_arr.columns:\n",
    "    train_df_featured[col_type] = train_type_arr[col_type]\n",
    "    test_df_featured[col_type] = test_type_arr[col_type]"
   ]
  },
  {
   "cell_type": "code",
   "execution_count": 79,
   "metadata": {},
   "outputs": [
    {
     "data": {
      "text/plain": [
       "Index(['id', 'index_oper', 'type', 'priority', 'is_privatecategory', 'class',\n",
       "       'is_in_yandex', 'is_return', 'weight', 'mailtype', 'mailctg',\n",
       "       'directctg', 'transport_pay', 'postmark', 'name_mfi', 'weight_mfi',\n",
       "       'price_mfi', 'dist_qty_oper_login_1', 'total_qty_oper_login_1',\n",
       "       'total_qty_oper_login_0', 'total_qty_over_index_and_type',\n",
       "       'total_qty_over_index', 'is_wrong_sndr_name', 'is_wrong_rcpn_name',\n",
       "       'is_wrong_phone_number', 'is_wrong_address', 'label', 'oper_hash',\n",
       "       'index_pca_0', 'index_pca_1', 'index_pca_2', 'index_pca_3',\n",
       "       'index_pca_4', 'index_pca_5', 'index_pca_6', 'index_pca_7',\n",
       "       'index_pca_8', 'index_pca_9', 'hashed_index', 'name_mfi_cleaned',\n",
       "       'embed_txt_0', 'embed_txt_1', 'embed_txt_2', 'embed_txt_3',\n",
       "       'embed_txt_4', 'embed_txt_5', 'embed_txt_6', 'embed_txt_7',\n",
       "       'embed_txt_8', 'embed_txt_9', '0', 'АО', 'АОПП', 'ГОПС', 'ММПО', 'МРП',\n",
       "       'МСО', 'МСЦ', 'ОП', 'ОПП', 'П', 'ПЕРЕДВИЖНОЕ ОС', 'ППС', 'СОПС', 'СЦ',\n",
       "       'ТИ', 'УКД', 'УМСЦ', 'Участок', 'Цех'],\n",
       "      dtype='object')"
      ]
     },
     "execution_count": 79,
     "metadata": {},
     "output_type": "execute_result"
    }
   ],
   "source": [
    "train_df_featured.columns"
   ]
  },
  {
   "cell_type": "code",
   "execution_count": 80,
   "metadata": {},
   "outputs": [
    {
     "name": "stdout",
     "output_type": "stream",
     "text": [
      "train_mailctg_arr shape: (6000000, 5) \n",
      " test_mailctg_arr shape: (4000000, 5)\n"
     ]
    }
   ],
   "source": [
    "# \"mailctg\": \"str\", Код категории почтового отправления (-1-5, 5 кат.)\n",
    "\n",
    "train_mailctg_arr = pd.get_dummies(train_df_featured[\"mailctg\"])\n",
    "test_mailctg_arr = pd.get_dummies(test_df_featured[\"mailctg\"])\n",
    "\n",
    "print(\n",
    "    \"train_mailctg_arr shape:\", train_mailctg_arr.shape, \"\\n\",\n",
    "    \"test_mailctg_arr shape:\", test_mailctg_arr.shape,\n",
    ")"
   ]
  },
  {
   "cell_type": "code",
   "execution_count": 81,
   "metadata": {},
   "outputs": [
    {
     "data": {
      "text/plain": [
       "Index(['-1.0', '0.0', '1.0', '3.0', '5.0'], dtype='object')"
      ]
     },
     "execution_count": 81,
     "metadata": {},
     "output_type": "execute_result"
    }
   ],
   "source": [
    "train_mailctg_arr.columns"
   ]
  },
  {
   "cell_type": "code",
   "execution_count": 82,
   "metadata": {},
   "outputs": [
    {
     "data": {
      "text/plain": [
       "Index(['-1.0', '0.0', '1.0', '3.0', '5.0'], dtype='object')"
      ]
     },
     "execution_count": 82,
     "metadata": {},
     "output_type": "execute_result"
    }
   ],
   "source": [
    "test_mailctg_arr.columns"
   ]
  },
  {
   "cell_type": "code",
   "execution_count": 83,
   "metadata": {},
   "outputs": [],
   "source": [
    "for col_type in train_mailctg_arr.columns:\n",
    "    train_df_featured[f\"mail_cat_{col_type}\"] = train_mailctg_arr[col_type]\n",
    "    test_df_featured[f\"mail_cat_{col_type}\"] = test_mailctg_arr[col_type]"
   ]
  },
  {
   "cell_type": "code",
   "execution_count": 84,
   "metadata": {},
   "outputs": [
    {
     "data": {
      "text/plain": [
       "Index(['id', 'index_oper', 'type', 'priority', 'is_privatecategory', 'class',\n",
       "       'is_in_yandex', 'is_return', 'weight', 'mailtype', 'mailctg',\n",
       "       'directctg', 'transport_pay', 'postmark', 'name_mfi', 'weight_mfi',\n",
       "       'price_mfi', 'dist_qty_oper_login_1', 'total_qty_oper_login_1',\n",
       "       'total_qty_oper_login_0', 'total_qty_over_index_and_type',\n",
       "       'total_qty_over_index', 'is_wrong_sndr_name', 'is_wrong_rcpn_name',\n",
       "       'is_wrong_phone_number', 'is_wrong_address', 'label', 'oper_hash',\n",
       "       'index_pca_0', 'index_pca_1', 'index_pca_2', 'index_pca_3',\n",
       "       'index_pca_4', 'index_pca_5', 'index_pca_6', 'index_pca_7',\n",
       "       'index_pca_8', 'index_pca_9', 'hashed_index', 'name_mfi_cleaned',\n",
       "       'embed_txt_0', 'embed_txt_1', 'embed_txt_2', 'embed_txt_3',\n",
       "       'embed_txt_4', 'embed_txt_5', 'embed_txt_6', 'embed_txt_7',\n",
       "       'embed_txt_8', 'embed_txt_9', '0', 'АО', 'АОПП', 'ГОПС', 'ММПО', 'МРП',\n",
       "       'МСО', 'МСЦ', 'ОП', 'ОПП', 'П', 'ПЕРЕДВИЖНОЕ ОС', 'ППС', 'СОПС', 'СЦ',\n",
       "       'ТИ', 'УКД', 'УМСЦ', 'Участок', 'Цех', 'mail_cat_-1.0', 'mail_cat_0.0',\n",
       "       'mail_cat_1.0', 'mail_cat_3.0', 'mail_cat_5.0'],\n",
       "      dtype='object')"
      ]
     },
     "execution_count": 84,
     "metadata": {},
     "output_type": "execute_result"
    }
   ],
   "source": [
    "train_df_featured.columns"
   ]
  },
  {
   "cell_type": "code",
   "execution_count": 63,
   "metadata": {},
   "outputs": [],
   "source": [
    "# mailrank: \"int32\", Код разряда почтового отправления, только нули. TODO: drop col\n",
    "\n",
    "train_df_featured = train_df_featured.drop([\"mailrank\"], axis=1)\n",
    "test_df_featured = test_df_featured.drop([\"mailrank\"], axis=1)"
   ]
  },
  {
   "cell_type": "code",
   "execution_count": 85,
   "metadata": {},
   "outputs": [
    {
     "name": "stdout",
     "output_type": "stream",
     "text": [
      "<class 'pandas.core.frame.DataFrame'>\n",
      "RangeIndex: 6000000 entries, 0 to 5999999\n",
      "Data columns (total 75 columns):\n",
      " #   Column                         Dtype  \n",
      "---  ------                         -----  \n",
      " 0   id                             int32  \n",
      " 1   index_oper                     int32  \n",
      " 2   type                           object \n",
      " 3   priority                       int32  \n",
      " 4   is_privatecategory             object \n",
      " 5   class                          int32  \n",
      " 6   is_in_yandex                   object \n",
      " 7   is_return                      object \n",
      " 8   weight                         int32  \n",
      " 9   mailtype                       int32  \n",
      " 10  mailctg                        object \n",
      " 11  directctg                      int32  \n",
      " 12  transport_pay                  float64\n",
      " 13  postmark                       int32  \n",
      " 14  name_mfi                       object \n",
      " 15  weight_mfi                     int32  \n",
      " 16  price_mfi                      int32  \n",
      " 17  dist_qty_oper_login_1          int32  \n",
      " 18  total_qty_oper_login_1         int32  \n",
      " 19  total_qty_oper_login_0         int32  \n",
      " 20  total_qty_over_index_and_type  int32  \n",
      " 21  total_qty_over_index           int32  \n",
      " 22  is_wrong_sndr_name             int32  \n",
      " 23  is_wrong_rcpn_name             int32  \n",
      " 24  is_wrong_phone_number          int32  \n",
      " 25  is_wrong_address               int32  \n",
      " 26  label                          int32  \n",
      " 27  oper_hash                      int64  \n",
      " 28  index_pca_0                    float64\n",
      " 29  index_pca_1                    float64\n",
      " 30  index_pca_2                    float64\n",
      " 31  index_pca_3                    float64\n",
      " 32  index_pca_4                    float64\n",
      " 33  index_pca_5                    float64\n",
      " 34  index_pca_6                    float64\n",
      " 35  index_pca_7                    float64\n",
      " 36  index_pca_8                    float64\n",
      " 37  index_pca_9                    float64\n",
      " 38  hashed_index                   int64  \n",
      " 39  name_mfi_cleaned               object \n",
      " 40  embed_txt_0                    int64  \n",
      " 41  embed_txt_1                    int64  \n",
      " 42  embed_txt_2                    int64  \n",
      " 43  embed_txt_3                    int64  \n",
      " 44  embed_txt_4                    int64  \n",
      " 45  embed_txt_5                    int64  \n",
      " 46  embed_txt_6                    int64  \n",
      " 47  embed_txt_7                    int64  \n",
      " 48  embed_txt_8                    int64  \n",
      " 49  embed_txt_9                    int64  \n",
      " 50  0                              uint8  \n",
      " 51  АО                             uint8  \n",
      " 52  АОПП                           uint8  \n",
      " 53  ГОПС                           uint8  \n",
      " 54  ММПО                           uint8  \n",
      " 55  МРП                            uint8  \n",
      " 56  МСО                            uint8  \n",
      " 57  МСЦ                            uint8  \n",
      " 58  ОП                             uint8  \n",
      " 59  ОПП                            uint8  \n",
      " 60  П                              uint8  \n",
      " 61  ПЕРЕДВИЖНОЕ ОС                 uint8  \n",
      " 62  ППС                            uint8  \n",
      " 63  СОПС                           uint8  \n",
      " 64  СЦ                             uint8  \n",
      " 65  ТИ                             uint8  \n",
      " 66  УКД                            uint8  \n",
      " 67  УМСЦ                           uint8  \n",
      " 68  Участок                        uint8  \n",
      " 69  Цех                            uint8  \n",
      " 70  mail_cat_-1.0                  uint8  \n",
      " 71  mail_cat_0.0                   uint8  \n",
      " 72  mail_cat_1.0                   uint8  \n",
      " 73  mail_cat_3.0                   uint8  \n",
      " 74  mail_cat_5.0                   uint8  \n",
      "dtypes: float64(11), int32(20), int64(12), object(7), uint8(25)\n",
      "memory usage: 1.9+ GB\n"
     ]
    }
   ],
   "source": [
    "train_df_featured.info()"
   ]
  },
  {
   "cell_type": "code",
   "execution_count": 86,
   "metadata": {},
   "outputs": [
    {
     "name": "stdout",
     "output_type": "stream",
     "text": [
      "Featured dataset is saved.\n"
     ]
    }
   ],
   "source": [
    "train_df_featured.to_csv(\n",
    "    \"./Data/train_dataset_featured.csv\", \n",
    "    index=False, \n",
    "    line_terminator=\"\\n\",\n",
    ")\n",
    "\n",
    "test_df_featured.to_csv(\n",
    "    \"./Data/test_dataset_featured.csv\", \n",
    "    index=False, \n",
    "    line_terminator=\"\\n\",\n",
    ")\n",
    "\n",
    "print(\"Featured dataset is saved.\")"
   ]
  },
  {
   "cell_type": "markdown",
   "metadata": {},
   "source": [
    "# Featured DF"
   ]
  },
  {
   "cell_type": "code",
   "execution_count": 3,
   "metadata": {},
   "outputs": [],
   "source": [
    "train_df_featured = pd.read_csv(\n",
    "    filepath_or_buffer=\"Data/train_dataset_featured.csv\"\n",
    ")\n",
    "\n",
    "test_df_featured = pd.read_csv(\n",
    "    filepath_or_buffer=\"Data/test_dataset_featured.csv\"\n",
    ")"
   ]
  },
  {
   "cell_type": "code",
   "execution_count": 4,
   "metadata": {},
   "outputs": [
    {
     "name": "stdout",
     "output_type": "stream",
     "text": [
      "(6000000, 75) \n",
      " (4000000, 74)\n"
     ]
    }
   ],
   "source": [
    "print(\n",
    "    train_df_featured.shape, \"\\n\",\n",
    "    test_df_featured.shape\n",
    ")"
   ]
  },
  {
   "cell_type": "code",
   "execution_count": 5,
   "metadata": {},
   "outputs": [],
   "source": [
    "TARGET_NAME = \"label\""
   ]
  },
  {
   "cell_type": "code",
   "execution_count": 9,
   "metadata": {},
   "outputs": [
    {
     "name": "stdout",
     "output_type": "stream",
     "text": [
      "(6000000, 141) \n",
      " (4000000, 140)\n"
     ]
    }
   ],
   "source": [
    "print(\n",
    "    train_df_featured.shape, \"\\n\",\n",
    "    test_df_featured.shape\n",
    ")"
   ]
  },
  {
   "cell_type": "markdown",
   "metadata": {},
   "source": [
    "## Создание и обучение модели"
   ]
  },
  {
   "cell_type": "code",
   "execution_count": 52,
   "metadata": {},
   "outputs": [],
   "source": [
    "TARGET_NAME = \"label\"\n",
    "N_FOLDS = 5\n",
    "N_JOBS = 8\n",
    "TRESHOLD = 0.005\n",
    "\n",
    "\n",
    "task = Task('binary')\n",
    "reader = PandasToPandasReader(\n",
    "    task, \n",
    "    cv=N_FOLDS, \n",
    "    random_state=SEED\n",
    ")"
   ]
  },
  {
   "cell_type": "code",
   "execution_count": 45,
   "metadata": {},
   "outputs": [],
   "source": [
    "model0 = BoostLGBM(\n",
    "    default_params={\n",
    "        'learning_rate': 0.05, \n",
    "        'num_leaves': 64, \n",
    "        'seed': SEED, \n",
    "        'num_threads': N_JOBS\n",
    "    }\n",
    ")\n",
    "\n",
    "pipe0 = LGBSimpleFeatures()\n",
    "mbie = ModelBasedImportanceEstimator()\n",
    "\n",
    "selector = ImportanceCutoffSelector(\n",
    "    pipe0, \n",
    "    model0, \n",
    "    mbie, \n",
    "    cutoff=0,\n",
    ")\n",
    "\n",
    "pipe = LGBSimpleFeatures()\n",
    "\n",
    "params_tuner1 = OptunaTuner(\n",
    "    n_trials=20, \n",
    "    timeout=30,\n",
    ")\n",
    "\n",
    "model1 = BoostLGBM(\n",
    "    default_params={\n",
    "        'learning_rate': 0.05, \n",
    "        'num_leaves': 128, \n",
    "        'seed': 1, \n",
    "        'num_threads': N_JOBS,\n",
    "    }\n",
    ")\n",
    "\n",
    "model2 = BoostLGBM(\n",
    "    default_params={\n",
    "        'learning_rate': 0.025, \n",
    "        'num_leaves': 64, \n",
    "        'seed': 2, \n",
    "        'num_threads': N_JOBS,\n",
    "    }\n",
    ")\n",
    "\n",
    "pipeline_lvl1 = MLPipeline(\n",
    "    [\n",
    "        (model1, params_tuner1),\n",
    "        model2\n",
    "    ], \n",
    "    pre_selection=selector, \n",
    "    features_pipeline=pipe, \n",
    "    post_selection=None,\n",
    ")\n",
    "\n",
    "pipe1 = LGBSimpleFeatures()\n",
    "\n",
    "model = BoostLGBM(\n",
    "    default_params={\n",
    "        'learning_rate': 0.05, \n",
    "        'num_leaves': 64, \n",
    "        'max_bin': 1024, \n",
    "        'seed': 3, \n",
    "        'num_threads': N_JOBS\n",
    "    },\n",
    "    freeze_defaults=True\n",
    ")\n",
    "\n",
    "pipeline_lvl2 = MLPipeline(\n",
    "    [model], \n",
    "    pre_selection=None, \n",
    "    features_pipeline=pipe1, \n",
    "    post_selection=None\n",
    ")"
   ]
  },
  {
   "cell_type": "code",
   "execution_count": 49,
   "metadata": {},
   "outputs": [
    {
     "name": "stdout",
     "output_type": "stream",
     "text": [
      "CPU times: total: 0 ns\n",
      "Wall time: 0 ns\n"
     ]
    }
   ],
   "source": [
    "%%time \n",
    "automl = AutoML(\n",
    "    reader, [\n",
    "        [pipeline_lvl1],\n",
    "        [pipeline_lvl2],\n",
    "    ], \n",
    "    skip_conn=False\n",
    ")"
   ]
  },
  {
   "cell_type": "code",
   "execution_count": 51,
   "metadata": {},
   "outputs": [
    {
     "name": "stderr",
     "output_type": "stream",
     "text": [
      "The series.append method is deprecated and will be removed from pandas in a future version. Use pandas.concat instead.\n",
      "The series.append method is deprecated and will be removed from pandas in a future version. Use pandas.concat instead.\n",
      "The series.append method is deprecated and will be removed from pandas in a future version. Use pandas.concat instead.\n",
      "The series.append method is deprecated and will be removed from pandas in a future version. Use pandas.concat instead.\n",
      "The series.append method is deprecated and will be removed from pandas in a future version. Use pandas.concat instead.\n",
      "The series.append method is deprecated and will be removed from pandas in a future version. Use pandas.concat instead.\n",
      "The series.append method is deprecated and will be removed from pandas in a future version. Use pandas.concat instead.\n",
      "The series.append method is deprecated and will be removed from pandas in a future version. Use pandas.concat instead.\n",
      "The series.append method is deprecated and will be removed from pandas in a future version. Use pandas.concat instead.\n",
      "The series.append method is deprecated and will be removed from pandas in a future version. Use pandas.concat instead.\n",
      "2022-11-17 12:07:27,890 optuna.storages._in_memory INFO A new study created in memory with name: no-name-d7a13eb4-d09e-4013-a12e-d356e13f4f6a\n",
      "suggest_uniform has been deprecated in v3.0.0. This feature will be removed in v6.0.0. See https://github.com/optuna/optuna/releases/tag/v3.0.0. Use :func:`~optuna.trial.Trial.suggest_float` instead.\n",
      "2022-11-17 12:12:21,021 optuna.study.study INFO Trial 0 finished with value: 0.9920238807290959 and parameters: {'feature_fraction': 0.6872700594236812, 'num_leaves': 244}. Best is trial 0 with value: 0.9920238807290959.\n"
     ]
    }
   ],
   "source": [
    "oof_pred = automl.fit_predict(\n",
    "    train_df_featured, \n",
    "    roles={'target': TARGET_NAME}\n",
    ")\n",
    "\n",
    "logging.info(f'oof_pred:\\n{oof_pred}\\nShape = {oof_pred.shape}')"
   ]
  },
  {
   "cell_type": "code",
   "execution_count": 53,
   "metadata": {},
   "outputs": [
    {
     "name": "stdout",
     "output_type": "stream",
     "text": [
      "CPU times: total: 5h 11min 25s\n",
      "Wall time: 51min 18s\n"
     ]
    }
   ],
   "source": [
    "%%time\n",
    "print(f\"Predict is run... Treshold: {TRESHOLD}\")\n",
    "test_pred = automl.predict(\n",
    "    test_df_featured\n",
    ")\n",
    "logging.info(f'Prediction for test data:\\n{test_pred}\\nShape = {test_pred.shape}')\n",
    "logging.info('Done.')\n",
    "logging.info(\n",
    "    f'OOF score: {roc_auc_score(train_df_featured[TARGET_NAME].values, oof_pred.data[:, 0])}'\n",
    ")\n",
    "logging.info(\n",
    "    f'TEST score: {roc_auc_score(test_df_featured[TARGET_NAME].values, test_pred.data[:, 0])}'\n",
    ")"
   ]
  },
  {
   "cell_type": "code",
   "execution_count": 54,
   "metadata": {},
   "outputs": [
    {
     "name": "stdout",
     "output_type": "stream",
     "text": [
      "Predict is run... Treshold: 0.005\n",
      "Predict is done.\n",
      "The submission is saved.\n"
     ]
    }
   ],
   "source": [
    "# Подготовка файла к сохранению\n",
    "\n",
    "y_predicted = (test_pred.data[:, 0] > TRESHOLD)*1\n",
    "print(\"Predict is done.\")\n",
    "\n",
    "test_df_featured[\"label\"] = y_predicted\n",
    "\n",
    "submission = test_df_featured[[\"id\", \"label\"]]\n",
    "submission.to_csv(\n",
    "    \"./Out/sample_solution.csv\", \n",
    "    index=False, \n",
    "    line_terminator=\"\\n\",\n",
    ")\n",
    "\n",
    "print(\"The submission is saved.\")"
   ]
  },
  {
   "cell_type": "markdown",
   "metadata": {},
   "source": [
    "## Fit Model with Report & Custom Score"
   ]
  },
  {
   "cell_type": "code",
   "execution_count": 17,
   "metadata": {},
   "outputs": [],
   "source": [
    "TARGET_NAME = \"label\"\n",
    "TASK_NAME = \"binary\"\n",
    "\n",
    "N_JOBS = 8\n",
    "N_FOLDS = 5\n",
    "SEED = 202211\n",
    "\n",
    "TRESHOLD = 0.005"
   ]
  },
  {
   "cell_type": "code",
   "execution_count": 18,
   "metadata": {},
   "outputs": [],
   "source": [
    "def final_score(y_true, y_pred):\n",
    "    roc_auc = roc_auc_score(y_true, y_pred)\n",
    "    recall = recall_score(y_true, (y_pred > TRESHOLD)*1)\n",
    "    score = 0.9 * roc_auc + 0.1 * recall\n",
    "    return score"
   ]
  },
  {
   "cell_type": "code",
   "execution_count": 30,
   "metadata": {},
   "outputs": [],
   "source": [
    "RD = ReportDeco(output_path = './Out/Rep/')\n",
    "\n",
    "automl_rd = RD(\n",
    "    TabularAutoML(\n",
    "        task = Task(\n",
    "            name = TASK_NAME,\n",
    "            metric = lambda y_true, y_pred: final_score(y_true, y_pred),\n",
    "        ),\n",
    "        general_params = {\n",
    "            \"nested_cv\": False, \n",
    "            \"use_algos\": [\n",
    "                [ \n",
    "                    \"lgb\", \n",
    "                    \"lgb_tuned\"\n",
    "                ]\n",
    "            ]\n",
    "        },\n",
    "        reader_params = {\n",
    "            \"n_jobs\": N_JOBS, \n",
    "            \"cv\": N_FOLDS, \n",
    "            \"random_state\": SEED,\n",
    "        },\n",
    "    )\n",
    ")"
   ]
  },
  {
   "cell_type": "code",
   "execution_count": null,
   "metadata": {},
   "outputs": [],
   "source": [
    "oof_pred = automl_rd.fit_predict(\n",
    "    train_df_featured,\n",
    "    roles = {\"target\": TARGET_NAME, \"drop\": [\"id\"]},\n",
    "    verbose=0,\n",
    ")"
   ]
  },
  {
   "cell_type": "code",
   "execution_count": 34,
   "metadata": {},
   "outputs": [
    {
     "name": "stdout",
     "output_type": "stream",
     "text": [
      "Used Model: Final prediction for new objects (level 0) = \n",
      "\t 1.00000 * (1 averaged models Lvl_0_Pipe_0_Mod_0_LightGBM) \n"
     ]
    }
   ],
   "source": [
    "print(\"Used Model:\", automl_rd.model.create_model_str_desc())"
   ]
  },
  {
   "cell_type": "code",
   "execution_count": 33,
   "metadata": {},
   "outputs": [
    {
     "data": {
      "image/png": "[encoded data removed]",
      "text/plain": [
       "<Figure size 1200x300 with 1 Axes>"
      ]
     },
     "metadata": {},
     "output_type": "display_data"
    }
   ],
   "source": [
    "fast_fi = automl_rd.model.get_feature_scores(\"fast\")\n",
    "\n",
    "fast_fi.set_index(\"Feature\")[\"Importance\"].plot.bar(\n",
    "    figsize = (12, 3),\n",
    "    grid = True,\n",
    ");"
   ]
  },
  {
   "cell_type": "code",
   "execution_count": 35,
   "metadata": {},
   "outputs": [
    {
     "name": "stdout",
     "output_type": "stream",
     "text": [
      "Best Features: Index(['oper_hash', 'type', 'is_wrong_phone_number', 'total_qty_oper_login_0',\n",
      "       'transport_pay', 'СОПС', 'dist_qty_oper_login_1', 'index_pca_0',\n",
      "       'index_oper', 'total_qty_over_index', 'mail_cat_0.0', 'mail_cat_1.0',\n",
      "       'weight', 'name_mfi', 'mailctg', 'price_mfi', 'class', 'weight_mfi',\n",
      "       'name_mfi_cleaned', 'total_qty_over_index_and_type',\n",
      "       'total_qty_oper_login_1', 'embed_txt_0', 'embed_txt_1', 'embed_txt_2',\n",
      "       'mail_cat_-1.0', 'embed_txt_3', 'embed_txt_4', 'МСЦ', 'П',\n",
      "       'hashed_index'],\n",
      "      dtype='object', name='Feature')\n"
     ]
    }
   ],
   "source": [
    "# Лучшие признаки\n",
    "\n",
    "best_features = fast_fi.set_index(\"Feature\")[\"Importance\"][:30].index\n",
    "print(\"Best Features:\", best_features)"
   ]
  },
  {
   "cell_type": "code",
   "execution_count": 26,
   "metadata": {},
   "outputs": [
    {
     "name": "stdout",
     "output_type": "stream",
     "text": [
      "['id', 'priority', 'is_privatecategory', 'is_in_yandex', 'is_return', 'mailtype', 'directctg', 'postmark', 'is_wrong_sndr_name', 'is_wrong_rcpn_name', 'is_wrong_address', 'index_pca_1', 'index_pca_2', 'index_pca_3', 'index_pca_4', 'index_pca_5', 'index_pca_6', 'index_pca_7', 'index_pca_8', 'index_pca_9', 'embed_txt_5', 'embed_txt_6', 'embed_txt_7', 'embed_txt_8', 'embed_txt_9', '0', 'АО', 'АОПП', 'ГОПС', 'ММПО', 'МРП', 'МСО', 'ОП', 'ОПП', 'ПЕРЕДВИЖНОЕ ОС', 'ППС', 'СЦ', 'ТИ', 'УКД', 'УМСЦ', 'Участок', 'Цех', 'mail_cat_3.0', 'mail_cat_5.0']\n"
     ]
    }
   ],
   "source": [
    "cols_for_drop = [\n",
    "    item for item in train_df_featured.drop(\n",
    "        [TARGET_NAME], \n",
    "        axis=1\n",
    "    ).columns if item not in best_features\n",
    "]\n",
    "\n",
    "print(cols_for_drop)"
   ]
  },
  {
   "cell_type": "code",
   "execution_count": null,
   "metadata": {},
   "outputs": [],
   "source": [
    "# Обучение на лучших признаках\n",
    "\n",
    "oof_pred = automl_rd.fit_predict(\n",
    "    train_df_featured,\n",
    "    roles = {\"target\": TARGET_NAME, \"drop\": cols_for_drop},\n",
    "    verbose=1,\n",
    ")"
   ]
  },
  {
   "cell_type": "code",
   "execution_count": 21,
   "metadata": {},
   "outputs": [
    {
     "data": {
      "image/png": "[encoded data removed]",
      "text/plain": [
       "<Figure size 1200x300 with 1 Axes>"
      ]
     },
     "metadata": {},
     "output_type": "display_data"
    }
   ],
   "source": [
    "fast_fi = automl_rd.get_feature_scores(\"fast\")\n",
    "\n",
    "fast_fi.set_index(\"Feature\")[\"Importance\"].plot.bar(\n",
    "    figsize = (12, 3),\n",
    "    grid = True,\n",
    ");"
   ]
  },
  {
   "cell_type": "code",
   "execution_count": 36,
   "metadata": {},
   "outputs": [
    {
     "name": "stdout",
     "output_type": "stream",
     "text": [
      "Predict is run... Treshold: 0.005\n"
     ]
    },
    {
     "name": "stderr",
     "output_type": "stream",
     "text": [
      "\n",
      "\n",
      "`shade` is now deprecated in favor of `fill`; setting `fill=True`.\n",
      "This will become an error in seaborn v0.14.0; please update your code.\n",
      "\n",
      "\n",
      "\n",
      "`shade` is now deprecated in favor of `fill`; setting `fill=True`.\n",
      "This will become an error in seaborn v0.14.0; please update your code.\n",
      "\n"
     ]
    },
    {
     "name": "stdout",
     "output_type": "stream",
     "text": [
      "Predict is done.\n",
      "The submission is saved.\n"
     ]
    }
   ],
   "source": [
    "# Предсказание и подготовка файла к сохранению\n",
    "\n",
    "print(f\"Predict is run... Treshold: {TRESHOLD}\")\n",
    "test_pred = automl_rd.predict(test_df_featured)\n",
    "y_predicted = (test_pred.data[:, 0] > TRESHOLD)*1\n",
    "print(\"Predict is done.\")\n",
    "\n",
    "test_df_featured[\"label\"] = y_predicted\n",
    "\n",
    "submission = test_df_featured[[\"id\", \"label\"]]\n",
    "submission.to_csv(\n",
    "    \"./Out/sample_solution.csv\", \n",
    "    index=False, \n",
    "    line_terminator=\"\\n\",\n",
    ")\n",
    "\n",
    "print(\"The submission is saved.\")"
   ]
  },
  {
   "cell_type": "code",
   "execution_count": null,
   "metadata": {},
   "outputs": [],
   "source": []
  }
 ],
 "metadata": {
  "kernelspec": {
   "display_name": "Python 3.8.10 ('lamlvenv')",
   "language": "python",
   "name": "python3"
  },
  "language_info": {
   "codemirror_mode": {
    "name": "ipython",
    "version": 3
   },
   "file_extension": ".py",
   "mimetype": "text/x-python",
   "name": "python",
   "nbconvert_exporter": "python",
   "pygments_lexer": "ipython3",
   "version": "3.8.10"
  },
  "orig_nbformat": 4,
  "vscode": {
   "interpreter": {
    "hash": "43b2b938c6d0f5f618b95b92c2130492f7ca97727878332ea58475716dde4dc9"
   }
  }
 },
 "nbformat": 4,
 "nbformat_minor": 2
}
